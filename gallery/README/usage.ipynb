{
 "cells": [
  {
   "cell_type": "markdown",
   "metadata": {},
   "source": [
    "### Usage (matplotlib)"
   ]
  },
  {
   "cell_type": "code",
   "execution_count": 1,
   "metadata": {},
   "outputs": [],
   "source": [
    "import random\n",
    "from matplotlib import pyplot as plt\n",
    "import gif"
   ]
  },
  {
   "cell_type": "code",
   "execution_count": 2,
   "metadata": {},
   "outputs": [],
   "source": [
    "x = [random.randint(0, 100) for _ in range(100)]\n",
    "y = [random.randint(0, 100) for _ in range(100)]"
   ]
  },
  {
   "cell_type": "code",
   "execution_count": 3,
   "metadata": {},
   "outputs": [],
   "source": [
    "@gif.frame\n",
    "def plot(i):\n",
    "    xi = x[i*10:(i+1)*10]\n",
    "    yi = y[i*10:(i+1)*10]\n",
    "    plt.scatter(xi, yi)\n",
    "    plt.xlim((0, 100))\n",
    "    plt.ylim((0, 100))"
   ]
  },
  {
   "cell_type": "code",
   "execution_count": 4,
   "metadata": {},
   "outputs": [],
   "source": [
    "frames = []\n",
    "for i in range(10):\n",
    "    frame = plot(i)\n",
    "    frames.append(frame)"
   ]
  },
  {
   "cell_type": "code",
   "execution_count": 5,
   "metadata": {},
   "outputs": [],
   "source": [
    "gif.save(frames, 'example-matplotlib.gif', duration=100)"
   ]
  },
  {
   "cell_type": "markdown",
   "metadata": {},
   "source": [
    "### Usage (Altair)"
   ]
  },
  {
   "cell_type": "code",
   "execution_count": 6,
   "metadata": {},
   "outputs": [],
   "source": [
    "import random\n",
    "import altair as alt\n",
    "import pandas as pd\n",
    "import gif"
   ]
  },
  {
   "cell_type": "code",
   "execution_count": 7,
   "metadata": {},
   "outputs": [],
   "source": [
    "df = pd.DataFrame({\n",
    "    't': list(range(10)) * 10,\n",
    "    'x': [random.randint(0, 100) for _ in range(100)],\n",
    "    'y': [random.randint(0, 100) for _ in range(100)]\n",
    "})"
   ]
  },
  {
   "cell_type": "code",
   "execution_count": 8,
   "metadata": {},
   "outputs": [],
   "source": [
    "@gif.frame\n",
    "def plot(i):\n",
    "    d = df[df['t'] == i]\n",
    "    \n",
    "    chart = alt.Chart(d).encode(\n",
    "        x=alt.X('x', scale=alt.Scale(domain=(0, 100))),\n",
    "        y=alt.Y('y', scale=alt.Scale(domain=(0, 100)))\n",
    "    ).mark_circle()\n",
    "    \n",
    "    return chart"
   ]
  },
  {
   "cell_type": "code",
   "execution_count": 9,
   "metadata": {},
   "outputs": [],
   "source": [
    "frames = []\n",
    "for i in range(10):\n",
    "    frame = plot(i)\n",
    "    frames.append(frame)"
   ]
  },
  {
   "cell_type": "code",
   "execution_count": 10,
   "metadata": {},
   "outputs": [],
   "source": [
    "gif.save(frames, 'example-altair.gif', duration=100)"
   ]
  }
 ],
 "metadata": {
  "kernelspec": {
   "display_name": "Python 3",
   "language": "python",
   "name": "python3"
  },
  "language_info": {
   "codemirror_mode": {
    "name": "ipython",
    "version": 3
   },
   "file_extension": ".py",
   "mimetype": "text/x-python",
   "name": "python",
   "nbconvert_exporter": "python",
   "pygments_lexer": "ipython3",
   "version": "3.7.6"
  }
 },
 "nbformat": 4,
 "nbformat_minor": 4
}
