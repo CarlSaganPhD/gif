{
 "cells": [
  {
   "cell_type": "code",
   "execution_count": 4,
   "metadata": {},
   "outputs": [],
   "source": [
    "import altair as alt\n",
    "import pandas as pd\n",
    "import gif"
   ]
  },
  {
   "cell_type": "code",
   "execution_count": 5,
   "metadata": {},
   "outputs": [],
   "source": [
    "df = pd.DataFrame({\n",
    "    \"x\": list(range(100)),\n",
    "    \"y\": [10] * len(x)\n",
    "})"
   ]
  },
  {
   "cell_type": "code",
   "execution_count": 8,
   "metadata": {},
   "outputs": [
    {
     "data": {
      "text/html": [
       "\n",
       "<div id=\"altair-viz-8094b21d11fb4802af8d23529efc7418\"></div>\n",
       "<script type=\"text/javascript\">\n",
       "  (function(spec, embedOpt){\n",
       "    let outputDiv = document.currentScript.previousElementSibling;\n",
       "    if (outputDiv.id !== \"altair-viz-8094b21d11fb4802af8d23529efc7418\") {\n",
       "      outputDiv = document.getElementById(\"altair-viz-8094b21d11fb4802af8d23529efc7418\");\n",
       "    }\n",
       "    const paths = {\n",
       "      \"vega\": \"https://cdn.jsdelivr.net/npm//vega@5?noext\",\n",
       "      \"vega-lib\": \"https://cdn.jsdelivr.net/npm//vega-lib?noext\",\n",
       "      \"vega-lite\": \"https://cdn.jsdelivr.net/npm//vega-lite@4.8.1?noext\",\n",
       "      \"vega-embed\": \"https://cdn.jsdelivr.net/npm//vega-embed@6?noext\",\n",
       "    };\n",
       "\n",
       "    function loadScript(lib) {\n",
       "      return new Promise(function(resolve, reject) {\n",
       "        var s = document.createElement('script');\n",
       "        s.src = paths[lib];\n",
       "        s.async = true;\n",
       "        s.onload = () => resolve(paths[lib]);\n",
       "        s.onerror = () => reject(`Error loading script: ${paths[lib]}`);\n",
       "        document.getElementsByTagName(\"head\")[0].appendChild(s);\n",
       "      });\n",
       "    }\n",
       "\n",
       "    function showError(err) {\n",
       "      outputDiv.innerHTML = `<div class=\"error\" style=\"color:red;\">${err}</div>`;\n",
       "      throw err;\n",
       "    }\n",
       "\n",
       "    function displayChart(vegaEmbed) {\n",
       "      vegaEmbed(outputDiv, spec, embedOpt)\n",
       "        .catch(err => showError(`Javascript Error: ${err.message}<br>This usually means there's a typo in your chart specification. See the javascript console for the full traceback.`));\n",
       "    }\n",
       "\n",
       "    if(typeof define === \"function\" && define.amd) {\n",
       "      requirejs.config({paths});\n",
       "      require([\"vega-embed\"], displayChart, err => showError(`Error loading script: ${err.message}`));\n",
       "    } else if (typeof vegaEmbed === \"function\") {\n",
       "      displayChart(vegaEmbed);\n",
       "    } else {\n",
       "      loadScript(\"vega\")\n",
       "        .then(() => loadScript(\"vega-lite\"))\n",
       "        .then(() => loadScript(\"vega-embed\"))\n",
       "        .catch(showError)\n",
       "        .then(() => displayChart(vegaEmbed));\n",
       "    }\n",
       "  })({\"config\": {\"view\": {\"continuousWidth\": 400, \"continuousHeight\": 300}}, \"data\": {\"name\": \"data-db8750d011e851f9ebcd117e7e1c474e\"}, \"mark\": \"line\", \"encoding\": {\"x\": {\"type\": \"quantitative\", \"field\": \"x\"}, \"y\": {\"type\": \"quantitative\", \"field\": \"y\", \"scale\": {\"domain\": [0, 20]}}}, \"$schema\": \"https://vega.github.io/schema/vega-lite/v4.8.1.json\", \"datasets\": {\"data-db8750d011e851f9ebcd117e7e1c474e\": [{\"x\": 0, \"y\": 10}, {\"x\": 1, \"y\": 10}, {\"x\": 2, \"y\": 10}, {\"x\": 3, \"y\": 10}, {\"x\": 4, \"y\": 10}, {\"x\": 5, \"y\": 10}, {\"x\": 6, \"y\": 10}, {\"x\": 7, \"y\": 10}, {\"x\": 8, \"y\": 10}, {\"x\": 9, \"y\": 10}, {\"x\": 10, \"y\": 10}, {\"x\": 11, \"y\": 10}, {\"x\": 12, \"y\": 10}, {\"x\": 13, \"y\": 10}, {\"x\": 14, \"y\": 10}, {\"x\": 15, \"y\": 10}, {\"x\": 16, \"y\": 10}, {\"x\": 17, \"y\": 10}, {\"x\": 18, \"y\": 10}, {\"x\": 19, \"y\": 10}, {\"x\": 20, \"y\": 10}, {\"x\": 21, \"y\": 10}, {\"x\": 22, \"y\": 10}, {\"x\": 23, \"y\": 10}, {\"x\": 24, \"y\": 10}, {\"x\": 25, \"y\": 10}, {\"x\": 26, \"y\": 10}, {\"x\": 27, \"y\": 10}, {\"x\": 28, \"y\": 10}, {\"x\": 29, \"y\": 10}, {\"x\": 30, \"y\": 10}, {\"x\": 31, \"y\": 10}, {\"x\": 32, \"y\": 10}, {\"x\": 33, \"y\": 10}, {\"x\": 34, \"y\": 10}, {\"x\": 35, \"y\": 10}, {\"x\": 36, \"y\": 10}, {\"x\": 37, \"y\": 10}, {\"x\": 38, \"y\": 10}, {\"x\": 39, \"y\": 10}, {\"x\": 40, \"y\": 10}, {\"x\": 41, \"y\": 10}, {\"x\": 42, \"y\": 10}, {\"x\": 43, \"y\": 10}, {\"x\": 44, \"y\": 10}, {\"x\": 45, \"y\": 10}, {\"x\": 46, \"y\": 10}, {\"x\": 47, \"y\": 10}, {\"x\": 48, \"y\": 10}, {\"x\": 49, \"y\": 10}, {\"x\": 50, \"y\": 10}, {\"x\": 51, \"y\": 10}, {\"x\": 52, \"y\": 10}, {\"x\": 53, \"y\": 10}, {\"x\": 54, \"y\": 10}, {\"x\": 55, \"y\": 10}, {\"x\": 56, \"y\": 10}, {\"x\": 57, \"y\": 10}, {\"x\": 58, \"y\": 10}, {\"x\": 59, \"y\": 10}, {\"x\": 60, \"y\": 10}, {\"x\": 61, \"y\": 10}, {\"x\": 62, \"y\": 10}, {\"x\": 63, \"y\": 10}, {\"x\": 64, \"y\": 10}, {\"x\": 65, \"y\": 10}, {\"x\": 66, \"y\": 10}, {\"x\": 67, \"y\": 10}, {\"x\": 68, \"y\": 10}, {\"x\": 69, \"y\": 10}, {\"x\": 70, \"y\": 10}, {\"x\": 71, \"y\": 10}, {\"x\": 72, \"y\": 10}, {\"x\": 73, \"y\": 10}, {\"x\": 74, \"y\": 10}, {\"x\": 75, \"y\": 10}, {\"x\": 76, \"y\": 10}, {\"x\": 77, \"y\": 10}, {\"x\": 78, \"y\": 10}, {\"x\": 79, \"y\": 10}, {\"x\": 80, \"y\": 10}, {\"x\": 81, \"y\": 10}, {\"x\": 82, \"y\": 10}, {\"x\": 83, \"y\": 10}, {\"x\": 84, \"y\": 10}, {\"x\": 85, \"y\": 10}, {\"x\": 86, \"y\": 10}, {\"x\": 87, \"y\": 10}, {\"x\": 88, \"y\": 10}, {\"x\": 89, \"y\": 10}, {\"x\": 90, \"y\": 10}, {\"x\": 91, \"y\": 10}, {\"x\": 92, \"y\": 10}, {\"x\": 93, \"y\": 10}, {\"x\": 94, \"y\": 10}, {\"x\": 95, \"y\": 10}, {\"x\": 96, \"y\": 10}, {\"x\": 97, \"y\": 10}, {\"x\": 98, \"y\": 10}, {\"x\": 99, \"y\": 10}]}}, {\"mode\": \"vega-lite\"});\n",
       "</script>"
      ],
      "text/plain": [
       "alt.Chart(...)"
      ]
     },
     "execution_count": 8,
     "metadata": {},
     "output_type": "execute_result"
    }
   ],
   "source": [
    "alt.Chart(df).encode(\n",
    "    x=\"x\", \n",
    "    y=alt.Y(\"y\", scale=alt.Scale(domain=(0, 20)))\n",
    ").mark_line()"
   ]
  },
  {
   "cell_type": "code",
   "execution_count": null,
   "metadata": {},
   "outputs": [],
   "source": [
    "\n",
    "\n",
    "@gif.frame\n",
    "def plot(i):\n",
    "    plt.plot(x[:i], y[:i])\n",
    "    plt.xlim([0, max(x)])\n",
    "    plt.ylim([0, max(y) * 2])\n",
    "    # track the RED note\n",
    "    if x[i] > 50 and x[i] < 70:\n",
    "        plt.axvspan(50, x[i-1], facecolor=\"Red\", ls=\"--\", lw=2.0, alpha=0.2)\n",
    "    # track the BLUE note\n",
    "    if x[i] > 80 and x[i] < 90:\n",
    "        plt.axvspan(80, x[i-1], facecolor=\"Blue\", ls=\"--\", lw=2.0, alpha=0.2)\n",
    "    # make sure the RED stays on\n",
    "    if x[i] >= 70:\n",
    "        plt.axvspan(50, 70, facecolor=\"Red\", ls=\"--\", lw=2.0, alpha=0.2)\n",
    "    # make sure the BLUE stays on\n",
    "    if x[i] >= 90:\n",
    "        plt.axvspan(80, 90, facecolor=\"Blue\", ls=\"--\", lw=2.0, alpha=0.2)\n",
    "\n",
    "frames = []\n",
    "for i in range(len(x)):\n",
    "    frame = plot(i)\n",
    "    frames.append(frame)\n",
    "\n",
    "gif.save(frames, 'piano.gif', duration=30)"
   ]
  }
 ],
 "metadata": {
  "kernelspec": {
   "display_name": "Python 3",
   "language": "python",
   "name": "python3"
  },
  "language_info": {
   "codemirror_mode": {
    "name": "ipython",
    "version": 3
   },
   "file_extension": ".py",
   "mimetype": "text/x-python",
   "name": "python",
   "nbconvert_exporter": "python",
   "pygments_lexer": "ipython3",
   "version": "3.7.6"
  }
 },
 "nbformat": 4,
 "nbformat_minor": 4
}
