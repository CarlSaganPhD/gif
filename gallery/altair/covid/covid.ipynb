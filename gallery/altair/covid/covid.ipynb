{
 "cells": [
  {
   "cell_type": "code",
   "execution_count": 1,
   "metadata": {},
   "outputs": [],
   "source": [
    "import altair as alt\n",
    "from altair import Chart, X, Y, Color, Scale, Axis\n",
    "import pandas as pd\n",
    "\n",
    "import gif"
   ]
  },
  {
   "cell_type": "code",
   "execution_count": 2,
   "metadata": {},
   "outputs": [],
   "source": [
    "df = pd.read_csv('https://covid.ourworldindata.org/data/ecdc/full_data.csv')\n",
    "df['date'] = pd.to_datetime(df['date'])"
   ]
  },
  {
   "cell_type": "code",
   "execution_count": 3,
   "metadata": {},
   "outputs": [],
   "source": [
    "select = df[df['location'].isin([\n",
    "    'United States',\n",
    "    'China',\n",
    "    'Canada',\n",
    "    'Sweden']\n",
    ")].reset_index(drop=True)"
   ]
  },
  {
   "cell_type": "code",
   "execution_count": 4,
   "metadata": {},
   "outputs": [],
   "source": [
    "population = {\n",
    "    'United States': 330_000_000,\n",
    "    'China': 1_440_000_000,\n",
    "    'Canada': 37_000_000,\n",
    "    'Sweden': 10_000_100\n",
    "}"
   ]
  },
  {
   "cell_type": "code",
   "execution_count": 5,
   "metadata": {},
   "outputs": [],
   "source": [
    "select['population'] = select['location'].map(population)\n",
    "select['cases_per_million'] = select.apply(lambda row: row['new_cases'] / row['population'] * 1_000_000, axis=1)\n",
    "select['7d'] = select.groupby('location').rolling(7)['cases_per_million'].mean().reset_index(drop=True)"
   ]
  },
  {
   "cell_type": "code",
   "execution_count": 6,
   "metadata": {},
   "outputs": [],
   "source": [
    "@gif.frame\n",
    "def plot(date):\n",
    "    \n",
    "    d = select[select['date'] <= date]\n",
    "    xmin = d['date'].min()\n",
    "    delta = (d['date'].max() - xmin).days    \n",
    "    tmax = d['date'].max() + pd.Timedelta(days=max(30, delta))\n",
    "    xmax = min(tmax, d['date'].max()) + pd.Timedelta(days=5)\n",
    "    ymax = max(5, d['7d'].max()) + 5\n",
    "    date_ticks = pd.date_range(xmin, pd.Timestamp('now'), freq='MS').tolist()\n",
    "    \n",
    "    chart = Chart(d).encode(\n",
    "        x=X(\"date\", \n",
    "            title=None, \n",
    "            scale=Scale(domain=(xmin, xmax)), \n",
    "            axis=Axis(format=\"%b\", values=date_ticks)\n",
    "        ),\n",
    "        y=Y('7d', title=None, scale=Scale(domain=(0, ymax))),\n",
    "        color=Color('location', \n",
    "            scale=Scale(\n",
    "                domain=['United States', 'China', 'Canada', 'Sweden'], \n",
    "                range=[\"#000055\", \"#550000\", \"#881111\", \"#2222CC\"]\n",
    "            ),\n",
    "            legend=None\n",
    "        )\n",
    "    ).mark_line().properties(width=500, height=300)\n",
    "    \n",
    "    return chart"
   ]
  },
  {
   "cell_type": "code",
   "execution_count": null,
   "metadata": {},
   "outputs": [],
   "source": [
    "dates = pd.date_range(start='2020-02-01', end=df['date'].max())\n",
    "frames = []\n",
    "for date in dates:\n",
    "    frame = plot(date)\n",
    "    frames.append(frame)\n",
    "\n",
    "gif.save(frames, 'covid.gif', duration=75)"
   ]
  }
 ],
 "metadata": {
  "kernelspec": {
   "display_name": "Python 3",
   "language": "python",
   "name": "python3"
  },
  "language_info": {
   "codemirror_mode": {
    "name": "ipython",
    "version": 3
   },
   "file_extension": ".py",
   "mimetype": "text/x-python",
   "name": "python",
   "nbconvert_exporter": "python",
   "pygments_lexer": "ipython3",
   "version": "3.7.6"
  }
 },
 "nbformat": 4,
 "nbformat_minor": 4
}
