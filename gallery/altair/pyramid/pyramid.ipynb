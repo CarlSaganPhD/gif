{
 "cells": [
  {
   "cell_type": "code",
   "execution_count": 1,
   "metadata": {},
   "outputs": [],
   "source": [
    "import altair as alt\n",
    "from vega_datasets import data\n",
    "import pandas as pd\n",
    "import numpy as np\n",
    "\n",
    "import gif"
   ]
  },
  {
   "cell_type": "code",
   "execution_count": 2,
   "metadata": {},
   "outputs": [],
   "source": [
    "source = data.population.url\n",
    "df = pd.read_json(source)\n",
    "df['gender'] = np.where(df['sex'] == 1, 'Male', 'Female')"
   ]
  },
  {
   "cell_type": "code",
   "execution_count": 3,
   "metadata": {},
   "outputs": [],
   "source": [
    "pop = df.groupby(['year', 'sex'])['people'].sum().reset_index()"
   ]
  },
  {
   "cell_type": "code",
   "execution_count": 4,
   "metadata": {},
   "outputs": [],
   "source": [
    "df = pd.merge(df, pop, on=['year', 'sex'])\n",
    "df['pct'] = df['people_x'] / df['people_y']"
   ]
  },
  {
   "cell_type": "code",
   "execution_count": 5,
   "metadata": {},
   "outputs": [],
   "source": [
    "@gif.frame\n",
    "def plot(year):\n",
    "    \n",
    "    d = df[df['year'] == year]\n",
    "    \n",
    "    base = alt.Chart(d)\n",
    "    color_scale = alt.Scale(domain=['Male', 'Female'], range=['#1f77b4', '#e377c2'])\n",
    "\n",
    "    left = base.transform_filter(\n",
    "        alt.datum.gender == 'Female'\n",
    "    ).encode(\n",
    "        y=alt.Y('age:O', axis=None),\n",
    "        x=alt.X('pct',\n",
    "                title=None,\n",
    "                sort=alt.SortOrder('descending')),\n",
    "        color=alt.Color('gender:N', scale=color_scale, legend=None)\n",
    "    ).mark_bar().properties(height=300, width=230)\n",
    "\n",
    "    middle = base.encode(\n",
    "        y=alt.Y('age:O', axis=None),\n",
    "        text=alt.Text('age:Q'),\n",
    "        size=alt.SizeValue(10)\n",
    "    ).mark_text().properties(height=300, width=30)\n",
    "\n",
    "    right = base.transform_filter(\n",
    "        alt.datum.gender == 'Male'\n",
    "    ).encode(\n",
    "        y=alt.Y('age:O', axis=None),\n",
    "        x=alt.X('pct', title=None),\n",
    "        color=alt.Color('gender:N', scale=color_scale, legend=None)\n",
    "    ).mark_bar().properties(height=300, width=230)\n",
    "\n",
    "    chart = alt.concat(left, middle, right, spacing=5)\n",
    "    return chart"
   ]
  },
  {
   "cell_type": "code",
   "execution_count": 6,
   "metadata": {},
   "outputs": [],
   "source": [
    "frames = []\n",
    "for year in df.year.unique():\n",
    "    frame = plot(year)\n",
    "    frames.append(frame)\n",
    "\n",
    "gif.save(frames, 'pyramid.gif', duration=500)"
   ]
  }
 ],
 "metadata": {
  "kernelspec": {
   "display_name": "Python 3",
   "language": "python",
   "name": "python3"
  },
  "language_info": {
   "codemirror_mode": {
    "name": "ipython",
    "version": 3
   },
   "file_extension": ".py",
   "mimetype": "text/x-python",
   "name": "python",
   "nbconvert_exporter": "python",
   "pygments_lexer": "ipython3",
   "version": "3.7.6"
  }
 },
 "nbformat": 4,
 "nbformat_minor": 4
}
