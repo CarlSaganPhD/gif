{
 "cells": [
  {
   "cell_type": "code",
   "execution_count": 1,
   "metadata": {},
   "outputs": [],
   "source": [
    "import altair as alt\n",
    "from altair import Chart, X, Y, Color, Scale, Axis\n",
    "import pandas as pd\n",
    "\n",
    "import gif"
   ]
  },
  {
   "cell_type": "code",
   "execution_count": 2,
   "metadata": {},
   "outputs": [],
   "source": [
    "df = pd.read_csv('textbooks.csv')\n",
    "df['read'] = pd.to_datetime(df['read'])\n",
    "df['language'] = df['language'].apply(lambda x: x if x in ['Swift', 'R', 'Python'] else 'Other')"
   ]
  },
  {
   "cell_type": "code",
   "execution_count": 3,
   "metadata": {},
   "outputs": [],
   "source": [
    "@gif.frame\n",
    "def plot(date):\n",
    "    x_start = date - pd.Timedelta('2000 days')\n",
    "    x_end = date + pd.Timedelta('1 day')\n",
    "    d = df[df['read'] <= date]\n",
    "    date_ticks = pd.date_range(x_start, x_end, freq='YS').tolist()\n",
    "    \n",
    "    chart = Chart(d).encode(\n",
    "        x=X('read', \n",
    "            title=None, \n",
    "            scale=Scale(domain=(x_start, x_end)), \n",
    "            axis=Axis(format=\"%Y\", values=date_ticks)\n",
    "        ),\n",
    "        y=Y('pages', title=None, scale=Scale(domain=(0, 1200))), \n",
    "        color=Color('language', legend=None, scale=Scale(\n",
    "            domain=['Swift', 'R', 'Python', 'Other'], \n",
    "            range=['#fd9426', '#5fc9f8', '#fecb2e', \"#8e8e93\"]\n",
    "        ))).mark_circle().properties(width=500, height=300)\n",
    "    \n",
    "    return chart"
   ]
  },
  {
   "cell_type": "code",
   "execution_count": 4,
   "metadata": {},
   "outputs": [
    {
     "data": {
      "image/png": "[encoded data removed]",
      "text/plain": [
       "<PIL.PngImagePlugin.PngImageFile image mode=RGBA size=543x332 at 0x7FE8A116F850>"
      ]
     },
     "execution_count": 4,
     "metadata": {},
     "output_type": "execute_result"
    }
   ],
   "source": [
    "plot(pd.Timestamp('2020-04-03'))"
   ]
  },
  {
   "cell_type": "code",
   "execution_count": null,
   "metadata": {},
   "outputs": [],
   "source": [
    "dates = pd.date_range(\n",
    "    start=df['read'].min() - pd.Timedelta('50 days'),\n",
    "    end=pd.Timestamp('now') + pd.Timedelta('50 days'),\n",
    "    freq='4D'\n",
    ")\n",
    "\n",
    "frames = []\n",
    "for date in dates:\n",
    "    frame = plot(date)\n",
    "    frames.append(frame)\n",
    "\n",
    "gif.save(frames, 'textbooks.gif', duration=40)"
   ]
  }
 ],
 "metadata": {
  "kernelspec": {
   "display_name": "Python 3",
   "language": "python",
   "name": "python3"
  },
  "language_info": {
   "codemirror_mode": {
    "name": "ipython",
    "version": 3
   },
   "file_extension": ".py",
   "mimetype": "text/x-python",
   "name": "python",
   "nbconvert_exporter": "python",
   "pygments_lexer": "ipython3",
   "version": "3.7.6"
  }
 },
 "nbformat": 4,
 "nbformat_minor": 4
}
