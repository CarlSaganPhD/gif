{
 "cells": [
  {
   "cell_type": "code",
   "execution_count": 1,
   "metadata": {},
   "outputs": [],
   "source": [
    "from itertools import product\n",
    "import altair as alt\n",
    "import numpy as np\n",
    "import pandas as pd\n",
    "\n",
    "import gif"
   ]
  },
  {
   "cell_type": "code",
   "execution_count": 2,
   "metadata": {},
   "outputs": [],
   "source": [
    "np.random.seed(2)"
   ]
  },
  {
   "cell_type": "code",
   "execution_count": 3,
   "metadata": {},
   "outputs": [],
   "source": [
    "df = pd.DataFrame({\n",
    "    'time': [1] * 3 + [2] * 3 + [3] * 3 + [4] * 3 + [5] * 3,\n",
    "    'category': ['🥫', '🥜', '🕰'] * 5,\n",
    "    'count': np.random.randint(low=1, high=10, size=3*5)\n",
    "})"
   ]
  },
  {
   "cell_type": "code",
   "execution_count": 4,
   "metadata": {},
   "outputs": [],
   "source": [
    "df['emoji'] = df.apply(lambda row: [row.category] * row['count'], axis=1)\n",
    "df = df.explode('emoji')\n",
    "df['column'] = df.groupby(['time', 'category']).rank(method='first')\n",
    "df['column'] = df['column'].apply(int)\n",
    "idx = list(product(\n",
    "    range(1, df['time'].max() + 1),\n",
    "    df['category'].unique(), \n",
    "    range(1, df['column'].max() + 1)\n",
    "))\n",
    "df = df.set_index(['time', 'category', 'column']).reindex(idx).reset_index()\n",
    "df['emoji'] = df['emoji'].fillna('')"
   ]
  },
  {
   "cell_type": "code",
   "execution_count": 5,
   "metadata": {},
   "outputs": [],
   "source": [
    "@gif.frame\n",
    "def plot(t):\n",
    "    d = df[df['time'] == t]\n",
    "\n",
    "    chart = alt.Chart(d).mark_text().encode(\n",
    "        alt.X('column:O', axis=None),\n",
    "        alt.Y('category:O', axis=None),\n",
    "        alt.SizeValue(15),\n",
    "        text='emoji'\n",
    "    ).properties(width=300, height=200)\n",
    "    \n",
    "    return chart"
   ]
  },
  {
   "cell_type": "code",
   "execution_count": 6,
   "metadata": {},
   "outputs": [],
   "source": [
    "frames = []\n",
    "for t in range(1, 5+1):\n",
    "    frame = plot(t)\n",
    "    frames.append(frame)"
   ]
  },
  {
   "cell_type": "code",
   "execution_count": 7,
   "metadata": {},
   "outputs": [],
   "source": [
    "gif.save(frames, 'emoji.gif', duration=300)"
   ]
  }
 ],
 "metadata": {
  "kernelspec": {
   "display_name": "Python 3",
   "language": "python",
   "name": "python3"
  },
  "language_info": {
   "codemirror_mode": {
    "name": "ipython",
    "version": 3
   },
   "file_extension": ".py",
   "mimetype": "text/x-python",
   "name": "python",
   "nbconvert_exporter": "python",
   "pygments_lexer": "ipython3",
   "version": "3.7.6"
  }
 },
 "nbformat": 4,
 "nbformat_minor": 4
}
