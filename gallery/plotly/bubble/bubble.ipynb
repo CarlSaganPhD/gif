{
 "cells": [
  {
   "cell_type": "code",
   "execution_count": 1,
   "metadata": {},
   "outputs": [],
   "source": [
    "import gif\n",
    "import plotly.graph_objects as go\n",
    "import numpy as np\n",
    "np.random.seed(1)\n",
    "\n",
    "N = 100\n",
    "x = np.random.rand(N)\n",
    "y = np.random.rand(N)\n",
    "colors = np.random.rand(N)\n",
    "sz = np.random.rand(N) * 30"
   ]
  },
  {
   "cell_type": "code",
   "execution_count": 5,
   "metadata": {},
   "outputs": [],
   "source": [
    "layout = go.Layout(\n",
    "    xaxis = {'range': [-2, 2]},\n",
    "    yaxis = {'range': [-2, 2]},\n",
    "    margin=dict(l=10, r=10, t=10, b=10) \n",
    ")\n",
    " \n",
    "@gif.frame\n",
    "def plot(i):\n",
    "    fig = go.Figure(layout=layout)\n",
    "    fig.add_trace(go.Scatter(\n",
    "        x=x[:i],\n",
    "        y=y[:i],\n",
    "        mode=\"markers\",\n",
    "        marker=go.scatter.Marker(\n",
    "            size=sz[:i],\n",
    "            color=colors[:i],\n",
    "            opacity=0.6,\n",
    "            colorscale=\"Viridis\"\n",
    "        )\n",
    "    ))\n",
    "    fig.update_layout(width=500, height=300)\n",
    "    return fig"
   ]
  },
  {
   "cell_type": "code",
   "execution_count": 6,
   "metadata": {},
   "outputs": [],
   "source": [
    "frames = []\n",
    "for i in range(100):\n",
    "    frame = plot(i)\n",
    "    frames.append(frame)"
   ]
  },
  {
   "cell_type": "code",
   "execution_count": 7,
   "metadata": {},
   "outputs": [],
   "source": [
    "gif.save(frames, \"bubble.gif\")"
   ]
  }
 ],
 "metadata": {
  "kernelspec": {
   "display_name": "Python 3",
   "language": "python",
   "name": "python3"
  },
  "language_info": {
   "codemirror_mode": {
    "name": "ipython",
    "version": 3
   },
   "file_extension": ".py",
   "mimetype": "text/x-python",
   "name": "python",
   "nbconvert_exporter": "python",
   "pygments_lexer": "ipython3",
   "version": "3.8.3"
  }
 },
 "nbformat": 4,
 "nbformat_minor": 4
}
