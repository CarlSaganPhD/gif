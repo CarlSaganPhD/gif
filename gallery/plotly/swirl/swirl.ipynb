{
 "cells": [
  {
   "cell_type": "code",
   "execution_count": 1,
   "metadata": {},
   "outputs": [],
   "source": [
    "import plotly.graph_objects as go\n",
    "import numpy as np\n",
    "from sklearn.datasets import make_moons\n",
    "from sklearn.model_selection import train_test_split\n",
    "from sklearn.neighbors import KNeighborsClassifier\n",
    "\n",
    "import gif"
   ]
  },
  {
   "cell_type": "code",
   "execution_count": 2,
   "metadata": {},
   "outputs": [],
   "source": [
    "mesh_size = .02\n",
    "margin = 0.25\n",
    "\n",
    "# Load and split data\n",
    "X, y = make_moons(noise=0.3, random_state=0)\n",
    "X_train, X_test, y_train, y_test = train_test_split(\n",
    "    X, y.astype(str), test_size=0.25, random_state=0)\n",
    "\n",
    "# Create a mesh grid on which we will run our model\n",
    "x_min, x_max = X[:, 0].min() - margin, X[:, 0].max() + margin\n",
    "y_min, y_max = X[:, 1].min() - margin, X[:, 1].max() + margin\n",
    "xrange = np.arange(x_min, x_max, mesh_size)\n",
    "yrange = np.arange(y_min, y_max, mesh_size)\n",
    "xx, yy = np.meshgrid(xrange, yrange)"
   ]
  },
  {
   "cell_type": "code",
   "execution_count": 3,
   "metadata": {},
   "outputs": [],
   "source": [
    "@gif.frame\n",
    "def plot(neighbours):\n",
    "    clf = KNeighborsClassifier(neighbours, weights='uniform')\n",
    "    clf.fit(X, y)\n",
    "    Z = clf.predict_proba(np.c_[xx.ravel(), yy.ravel()])[:, 1]\n",
    "    Z = Z.reshape(xx.shape)\n",
    "\n",
    "    trace_specs = [\n",
    "        [X_train, y_train, '0', 'Train', 'square'],\n",
    "        [X_train, y_train, '1', 'Train', 'circle'],\n",
    "        [X_test, y_test, '0', 'Test', 'square-dot'],\n",
    "        [X_test, y_test, '1', 'Test', 'circle-dot']\n",
    "    ]\n",
    "\n",
    "    layout = go.Layout(\n",
    "        margin=dict(l=10, r=10, t=10, b=10) \n",
    "    )\n",
    "    \n",
    "    fig = go.Figure(layout=layout, data=[\n",
    "        go.Scatter(\n",
    "            x=X[y==label, 0], y=X[y==label, 1],\n",
    "            name=f'{split} Split, Label {label}',\n",
    "            mode='markers', marker_symbol=marker\n",
    "        )\n",
    "        for X, y, label, split, marker in trace_specs\n",
    "    ])\n",
    "    fig.update_traces(\n",
    "        marker_size=6, marker_line_width=1.5,\n",
    "        marker_color=\"lightyellow\"\n",
    "    )\n",
    "\n",
    "    fig.add_trace(\n",
    "        go.Contour(\n",
    "            x=xrange,\n",
    "            y=yrange,\n",
    "            z=Z,\n",
    "            showscale=False,\n",
    "            colorscale='RdBu',\n",
    "            opacity=0.4,\n",
    "            name='Score',\n",
    "            hoverinfo='skip'\n",
    "        )\n",
    "    )\n",
    "    fig.update_layout(showlegend=False, width=500, height=300)\n",
    "    return fig"
   ]
  },
  {
   "cell_type": "code",
   "execution_count": 6,
   "metadata": {},
   "outputs": [],
   "source": [
    "frames = []\n",
    "for i in range(1, 15+1):\n",
    "    frame = plot(i)\n",
    "    frames.append(frame)"
   ]
  },
  {
   "cell_type": "code",
   "execution_count": null,
   "metadata": {},
   "outputs": [],
   "source": [
    "gif.save(frames, \"bubble.gif\", duration=4, between=\"start\")"
   ]
  }
 ],
 "metadata": {
  "kernelspec": {
   "display_name": "Python 3",
   "language": "python",
   "name": "python3"
  },
  "language_info": {
   "codemirror_mode": {
    "name": "ipython",
    "version": 3
   },
   "file_extension": ".py",
   "mimetype": "text/x-python",
   "name": "python",
   "nbconvert_exporter": "python",
   "pygments_lexer": "ipython3",
   "version": "3.8.3"
  }
 },
 "nbformat": 4,
 "nbformat_minor": 4
}
