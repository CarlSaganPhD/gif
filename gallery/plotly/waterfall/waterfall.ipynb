{
 "cells": [
  {
   "cell_type": "code",
   "execution_count": 1,
   "metadata": {},
   "outputs": [],
   "source": [
    "import pandas as pd\n",
    "import plotly.graph_objects as go\n",
    "import gif\n",
    "\n",
    "df = pd.DataFrame([\n",
    "    [2016, 60, 80, 0, -40, -20, 0],\n",
    "    [2017, 50, 30, 0, -30, -10, 0],\n",
    "    [2018, 50, 40, 0, -30, -30, 0],\n",
    "    [2019, 60, 50, 0, -30, -10, 0],\n",
    "    [2020, 70, 60, 0, -50, -20, 0]\n",
    "], columns=[\"Year\", \"Sales\", \"Consulting\", \"Net revenue\", \"Purchases\", \"Other expenses\", \"Profit before tax\"])"
   ]
  },
  {
   "cell_type": "code",
   "execution_count": 2,
   "metadata": {},
   "outputs": [],
   "source": [
    "@gif.frame\n",
    "def plot(year):\n",
    "    d = df[df[\"Year\"] == year]\n",
    "\n",
    "    fig = go.Figure(go.Waterfall(\n",
    "        x=d.columns[1:],\n",
    "        y=d.values[0][1:],\n",
    "        measure=[\"relative\", \"relative\", \"total\", \"relative\", \"relative\", \"total\"],\n",
    "        name=\"20\", \n",
    "        orientation=\"v\",\n",
    "        textposition = \"outside\",\n",
    "        connector = {\"line\":{\"color\":\"rgb(63, 63, 63)\"}},\n",
    "    ))\n",
    "\n",
    "    fig.update_layout(\n",
    "        title=f\"Profit and loss statement for {d.values[0][0]}\",\n",
    "        showlegend=False,\n",
    "        yaxis={\"range\": [0, 200]},\n",
    "        width=500,\n",
    "        height=300, \n",
    "        margin=dict(l=10, r=10, t=50, b=10) \n",
    "    )\n",
    "\n",
    "    return fig"
   ]
  },
  {
   "cell_type": "code",
   "execution_count": null,
   "metadata": {},
   "outputs": [],
   "source": [
    "frames = []\n",
    "for year in range(2016, 2020+1):\n",
    "    frame = plot(year)\n",
    "    frames.append(frame)"
   ]
  },
  {
   "cell_type": "code",
   "execution_count": null,
   "metadata": {},
   "outputs": [],
   "source": [
    "gif.save(frames, \"waterfall.gif\", duration=3, unit=\"seconds\", between=\"startend\")"
   ]
  }
 ],
 "metadata": {
  "kernelspec": {
   "display_name": "Python 3",
   "language": "python",
   "name": "python3"
  },
  "language_info": {
   "codemirror_mode": {
    "name": "ipython",
    "version": 3
   },
   "file_extension": ".py",
   "mimetype": "text/x-python",
   "name": "python",
   "nbconvert_exporter": "python",
   "pygments_lexer": "ipython3",
   "version": "3.8.3"
  }
 },
 "nbformat": 4,
 "nbformat_minor": 4
}
