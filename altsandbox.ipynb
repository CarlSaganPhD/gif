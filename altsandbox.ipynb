{
 "cells": [
  {
   "cell_type": "code",
   "execution_count": 1,
   "metadata": {},
   "outputs": [],
   "source": [
    "import gif\n",
    "\n",
    "import altair as alt\n",
    "from matplotlib import pyplot as plt\n",
    "import pandas as pd\n",
    "import numpy as np"
   ]
  },
  {
   "cell_type": "code",
   "execution_count": 2,
   "metadata": {},
   "outputs": [],
   "source": [
    "df = pd.DataFrame({\n",
    "    'x': np.random.uniform(size=100),\n",
    "    'y': np.random.uniform(size=100),\n",
    "    't': np.arange(100) % 10\n",
    "})"
   ]
  },
  {
   "cell_type": "markdown",
   "metadata": {},
   "source": [
    "# matplotlib test"
   ]
  },
  {
   "cell_type": "code",
   "execution_count": null,
   "metadata": {},
   "outputs": [],
   "source": [
    "@gif.frame\n",
    "def plot_matplotlib(t):\n",
    "    d = df[df['t'] == t]\n",
    "    plt.scatter(d['x'], d['y'])\n",
    "    plt.xlim([0, 1])\n",
    "    plt.ylim([0, 1])"
   ]
  },
  {
   "cell_type": "code",
   "execution_count": null,
   "metadata": {},
   "outputs": [],
   "source": [
    "frames = []\n",
    "for t in range(10):\n",
    "    frame = plot_matplotlib(t)\n",
    "    frames.append(frame)\n",
    "    \n",
    "gif.save(frames, \"test_matplotlib.gif\", duration=100)"
   ]
  },
  {
   "cell_type": "markdown",
   "metadata": {},
   "source": [
    "# altair test"
   ]
  },
  {
   "cell_type": "code",
   "execution_count": 3,
   "metadata": {},
   "outputs": [],
   "source": [
    "@gif.frame\n",
    "def plot_altair(t):\n",
    "    d = df[df['t'] == t]\n",
    "    chart = alt.Chart(d).encode(\n",
    "        x=alt.X('x', scale=alt.Scale(domain=(0, 1))),\n",
    "        y=alt.Y('y', scale=alt.Scale(domain=(0, 1)))\n",
    "    ).mark_circle()\n",
    "    return chart"
   ]
  },
  {
   "cell_type": "code",
   "execution_count": 5,
   "metadata": {},
   "outputs": [],
   "source": [
    "frames = []\n",
    "for t in range(10):\n",
    "    frame = plot_altair(t)\n",
    "    frames.append(frame)\n",
    "    \n",
    "gif.save(frames, \"test_altair.gif\", duration=100)"
   ]
  }
 ],
 "metadata": {
  "kernelspec": {
   "display_name": "Python 3",
   "language": "python",
   "name": "python3"
  },
  "language_info": {
   "codemirror_mode": {
    "name": "ipython",
    "version": 3
   },
   "file_extension": ".py",
   "mimetype": "text/x-python",
   "name": "python",
   "nbconvert_exporter": "python",
   "pygments_lexer": "ipython3",
   "version": "3.7.6"
  }
 },
 "nbformat": 4,
 "nbformat_minor": 4
}
