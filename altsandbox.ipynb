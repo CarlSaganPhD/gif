{
 "cells": [
  {
   "cell_type": "code",
   "execution_count": 1,
   "metadata": {},
   "outputs": [],
   "source": [
    "import gif\n",
    "\n",
    "import altair as alt\n",
    "from matplotlib import pyplot as plt\n",
    "import pandas as pd\n",
    "import numpy as np"
   ]
  },
  {
   "cell_type": "code",
   "execution_count": 2,
   "metadata": {},
   "outputs": [],
   "source": [
    "df = pd.DataFrame({\n",
    "    'x': np.random.uniform(size=100),\n",
    "    'y': np.random.uniform(size=100),\n",
    "    't': np.arange(100) % 10\n",
    "})"
   ]
  },
  {
   "cell_type": "markdown",
   "metadata": {},
   "source": [
    "# matplotlib test"
   ]
  },
  {
   "cell_type": "code",
   "execution_count": null,
   "metadata": {},
   "outputs": [],
   "source": [
    "@gif.frame\n",
    "def plot_matplotlib(t):\n",
    "    d = df[df['t'] == t]\n",
    "    plt.scatter(d['x'], d['y'])\n",
    "    plt.xlim([0, 1])\n",
    "    plt.ylim([0, 1])"
   ]
  },
  {
   "cell_type": "code",
   "execution_count": null,
   "metadata": {},
   "outputs": [],
   "source": [
    "frames = []\n",
    "for t in range(10):\n",
    "    frame = plot_matplotlib(t)\n",
    "    frames.append(frame)\n",
    "    \n",
    "gif.save(frames, \"test_matplotlib.gif\", duration=100)"
   ]
  },
  {
   "cell_type": "markdown",
   "metadata": {},
   "source": [
    "# altair test"
   ]
  },
  {
   "cell_type": "code",
   "execution_count": 3,
   "metadata": {},
   "outputs": [],
   "source": [
    "@gif.frame\n",
    "def plot_altair(t):\n",
    "    d = df[df['t'] == t]\n",
    "    chart = alt.Chart(d).encode(\n",
    "        x=alt.X('x', scale=alt.Scale(domain=(0, 1))),\n",
    "        y=alt.Y('y', scale=alt.Scale(domain=(0, 1)))\n",
    "    ).mark_circle()\n",
    "    return chart"
   ]
  },
  {
   "cell_type": "code",
   "execution_count": 4,
   "metadata": {},
   "outputs": [
    {
     "data": {
      "image/png": "[encoded data removed]",
      "text/plain": [
       "<PIL.PngImagePlugin.PngImageFile image mode=RGBA size=447x347 at 0x7FCCB1087F50>"
      ]
     },
     "execution_count": 4,
     "metadata": {},
     "output_type": "execute_result"
    }
   ],
   "source": [
    "plot_altair(1)"
   ]
  },
  {
   "cell_type": "code",
   "execution_count": 5,
   "metadata": {},
   "outputs": [],
   "source": [
    "frames = []\n",
    "for t in range(10):\n",
    "    frame = plot_altair(t)\n",
    "    frames.append(frame)\n",
    "    \n",
    "gif.save(frames, \"test_altair.gif\", duration=100)"
   ]
  },
  {
   "cell_type": "code",
   "execution_count": null,
   "metadata": {},
   "outputs": [],
   "source": [
    "def plot_altair(t):\n",
    "    d = df[df['t'] == t]\n",
    "    chart = alt.Chart(d).encode(\n",
    "        x=alt.X('x', scale=alt.Scale(domain=(0, 1))),\n",
    "        y=alt.Y('y', scale=alt.Scale(domain=(0, 1)))\n",
    "    ).mark_circle()\n",
    "    return chart"
   ]
  },
  {
   "cell_type": "code",
   "execution_count": null,
   "metadata": {},
   "outputs": [],
   "source": [
    "from altair_saver import save \n",
    "chart = plot_altair(1)\n",
    "save(chart, \"test_alt.png\", fmt=\"png\")"
   ]
  },
  {
   "cell_type": "code",
   "execution_count": null,
   "metadata": {},
   "outputs": [],
   "source": [
    "import inspect\n",
    "\n",
    "inspect.signature(save)"
   ]
  },
  {
   "cell_type": "code",
   "execution_count": null,
   "metadata": {},
   "outputs": [],
   "source": [
    "save"
   ]
  },
  {
   "cell_type": "code",
   "execution_count": null,
   "metadata": {},
   "outputs": [],
   "source": [
    "import io\n",
    "from PIL import Image\n",
    "from altair_saver import save \n",
    "\n",
    "\n",
    "buffer = io.BytesIO()\n",
    "save(chart, buffer, fmt=\"png\")\n",
    "buffer.seek(0)\n",
    "image = Image.open(buffer)\n",
    "image"
   ]
  },
  {
   "cell_type": "code",
   "execution_count": null,
   "metadata": {},
   "outputs": [],
   "source": [
    "\n"
   ]
  },
  {
   "cell_type": "code",
   "execution_count": null,
   "metadata": {},
   "outputs": [],
   "source": []
  },
  {
   "cell_type": "code",
   "execution_count": null,
   "metadata": {},
   "outputs": [],
   "source": []
  },
  {
   "cell_type": "code",
   "execution_count": null,
   "metadata": {},
   "outputs": [],
   "source": []
  },
  {
   "cell_type": "code",
   "execution_count": null,
   "metadata": {},
   "outputs": [],
   "source": [
    "import functools\n",
    "import io\n",
    "from PIL import Image\n",
    "\n",
    "def frame(func):\n",
    "    @functools.wraps(func)\n",
    "    def wrapper(*args, **kwargs):\n",
    "        buffer = io.BytesIO()\n",
    "        chart = func(*args, **kwargs)\n",
    "        save(chart, buffer, fmt='png')\n",
    "        buffer.seek(0)\n",
    "        image = Image.open(buffer)\n",
    "        return image\n",
    "    return wrapper"
   ]
  },
  {
   "cell_type": "code",
   "execution_count": null,
   "metadata": {},
   "outputs": [],
   "source": [
    "@frame\n",
    "def plot(t):\n",
    "    d = df[df['t'] == t]\n",
    "    chart = alt.Chart(d).encode(x='x', y='y').mark_circle()\n",
    "    return chart"
   ]
  },
  {
   "cell_type": "code",
   "execution_count": null,
   "metadata": {},
   "outputs": [],
   "source": [
    "import altair_saver"
   ]
  },
  {
   "cell_type": "code",
   "execution_count": null,
   "metadata": {},
   "outputs": [],
   "source": [
    "altair_saver.types"
   ]
  },
  {
   "cell_type": "code",
   "execution_count": null,
   "metadata": {},
   "outputs": [],
   "source": [
    "from altair_saver import types"
   ]
  },
  {
   "cell_type": "code",
   "execution_count": null,
   "metadata": {},
   "outputs": [],
   "source": [
    "def plot(t):\n",
    "    d = df[df['t'] == t]\n",
    "    chart = alt.Chart(d).encode(x='x', y='y').mark_circle()\n",
    "    return chart"
   ]
  },
  {
   "cell_type": "code",
   "execution_count": null,
   "metadata": {},
   "outputs": [],
   "source": [
    "'altair' in str(type(plot(1)))"
   ]
  },
  {
   "cell_type": "code",
   "execution_count": null,
   "metadata": {},
   "outputs": [],
   "source": [
    "frames = []\n",
    "for t in range(10):\n",
    "    frame = plot(t)\n",
    "    frames.append(frame)"
   ]
  },
  {
   "cell_type": "code",
   "execution_count": null,
   "metadata": {},
   "outputs": [],
   "source": [
    "duration = 100\n",
    "path = 'chart_alt.gif'\n",
    "frames[0].save(\n",
    "    path,\n",
    "    save_all=True,\n",
    "    append_images=frames[1:],\n",
    "    optimize=True,\n",
    "    duration=duration,\n",
    "    loop=0,\n",
    ")"
   ]
  }
 ],
 "metadata": {
  "kernelspec": {
   "display_name": "Python 3",
   "language": "python",
   "name": "python3"
  },
  "language_info": {
   "codemirror_mode": {
    "name": "ipython",
    "version": 3
   },
   "file_extension": ".py",
   "mimetype": "text/x-python",
   "name": "python",
   "nbconvert_exporter": "python",
   "pygments_lexer": "ipython3",
   "version": "3.7.6"
  }
 },
 "nbformat": 4,
 "nbformat_minor": 4
}
